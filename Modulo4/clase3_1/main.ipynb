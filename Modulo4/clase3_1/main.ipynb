{
 "cells": [
  {
   "cell_type": "markdown",
   "metadata": {},
   "source": [
    "#Iteradores y Generadores\n",
    "\n",
    "##Iteradores:\n",
    "Los iteradores son objetos que proporcionan un método especial __next__() para recorrer una secuencia de objetos. Cuando el método __next__() es llamado, devuelve el siguiente elemento de la secuencia y termina la secuencia cuando se encuentra un elemento None. Los iteradores se utilizan para recorrer las estructuras de datos como listas, tuplas, diccionarios, etc. Ademas, los iteradores pueden ser usados en loops for para iterar sobre las estructuras de datos y reducir el uso de memoria.\n"
   ]
  },
  {
   "cell_type": "code",
   "execution_count": 2,
   "metadata": {},
   "outputs": [],
   "source": [
    "from dataclasses import dataclass"
   ]
  },
  {
   "cell_type": "code",
   "execution_count": null,
   "metadata": {},
   "outputs": [],
   "source": [
    "@dataclass\n",
    "class Contador:\n",
    "    limite: int\n",
    "    contador = 0\n",
    "\n",
    "    def __iter__(self):\n",
    "        return self\n",
    "    \n",
    "    def __next__(self):\n",
    "        if self.contador < self.limite:\n",
    "            valor =  self.contador\n",
    "            self.contador += 1\n",
    "            return valor\n",
    "        else:\n",
    "            raise StopIteration"
   ]
  },
  {
   "cell_type": "markdown",
   "metadata": {},
   "source": [
    "#Ejemplo de uso de un iterador"
   ]
  },
  {
   "cell_type": "code",
   "execution_count": null,
   "metadata": {},
   "outputs": [],
   "source": [
    "@dataclass\n",
    "class Turno:\n",
    "    limite = 100\n",
    "    turnoActual = 0\n",
    "\n",
    "    def __iter__(self):\n",
    "        return self\n",
    "    \n",
    "    def __next__(self):\n",
    "        if self.turnoActual < self.limite:\n",
    "            valor =  self.turnoActual\n",
    "            self.turnoActual += 1\n",
    "            return valor\n",
    "        else:\n",
    "            self.turnoActual = 1\n",
    "            return 'Turno reiniciado'\n",
    "        \n",
    "turno = Turno()\n",
    "\n",
    "for _ in range(105):\n",
    "    print(next(turno))"
   ]
  },
  {
   "cell_type": "markdown",
   "metadata": {},
   "source": [
    "#Generadores:\n",
    "\n",
    "Los generadores son iteradores que permiten construir secuencias de objetos en tiempo real y no almacenan todos los valores en memoria. Un generador produce un valor y lo devuelve al método __next__() de manera indefinida hasta que se llega a la finalización de la secuencia. Los generadores se utilizan para construir secuencias de objetos que no son necesariamente cargadas en memoria."
   ]
  },
  {
   "cell_type": "code",
   "execution_count": 5,
   "metadata": {},
   "outputs": [
    {
     "data": {
      "text/plain": [
       "[0, 1, 2, 3, 4, 5, 6, 7, 8, 9]"
      ]
     },
     "execution_count": 5,
     "metadata": {},
     "output_type": "execute_result"
    }
   ],
   "source": [
    "#Return vs yield en Python\n",
    "\n",
    "def numeros_hasta(n):\n",
    "    lista = []\n",
    "    for i in range(n):\n",
    "        lista.append(i)\n",
    "    return lista\n",
    "\n",
    "numeros_hasta(10)"
   ]
  },
  {
   "cell_type": "code",
   "execution_count": 12,
   "metadata": {},
   "outputs": [
    {
     "name": "stdout",
     "output_type": "stream",
     "text": [
      "0\n"
     ]
    }
   ],
   "source": [
    "def numeros_hasta2(n):\n",
    "    for i in range(n):\n",
    "        yield i\n",
    "gen = numeros_hasta2(10)\n",
    "print(next(gen))"
   ]
  },
  {
   "cell_type": "code",
   "execution_count": 13,
   "metadata": {},
   "outputs": [
    {
     "name": "stdout",
     "output_type": "stream",
     "text": [
      "1\n"
     ]
    }
   ],
   "source": [
    "print(next(gen))"
   ]
  },
  {
   "cell_type": "code",
   "execution_count": 14,
   "metadata": {},
   "outputs": [
    {
     "name": "stdout",
     "output_type": "stream",
     "text": [
      "2\n"
     ]
    }
   ],
   "source": [
    "print(next(gen))"
   ]
  },
  {
   "cell_type": "code",
   "execution_count": 15,
   "metadata": {},
   "outputs": [
    {
     "name": "stdout",
     "output_type": "stream",
     "text": [
      "12.96\n",
      "21.59\n",
      "24.38\n",
      "20.31\n",
      "23.62\n",
      "28.84\n",
      "17.81\n",
      "21.14\n",
      "13.77\n",
      "18.55\n",
      "25.15\n",
      "11.79\n"
     ]
    },
    {
     "ename": "KeyboardInterrupt",
     "evalue": "",
     "output_type": "error",
     "traceback": [
      "\u001b[1;31m---------------------------------------------------------------------------\u001b[0m",
      "\u001b[1;31mKeyboardInterrupt\u001b[0m                         Traceback (most recent call last)",
      "Cell \u001b[1;32mIn[15], line 10\u001b[0m\n\u001b[0;32m      7\u001b[0m         \u001b[38;5;28;01myield\u001b[39;00m temeperatura\n\u001b[0;32m      8\u001b[0m         time\u001b[38;5;241m.\u001b[39msleep(\u001b[38;5;241m3\u001b[39m)\n\u001b[1;32m---> 10\u001b[0m \u001b[38;5;28;43;01mfor\u001b[39;49;00m\u001b[43m \u001b[49m\u001b[43mtemperatura\u001b[49m\u001b[43m \u001b[49m\u001b[38;5;129;43;01min\u001b[39;49;00m\u001b[43m \u001b[49m\u001b[43msensor_temperatura\u001b[49m\u001b[43m(\u001b[49m\u001b[43m)\u001b[49m\u001b[43m:\u001b[49m\n\u001b[0;32m     11\u001b[0m \u001b[43m    \u001b[49m\u001b[38;5;28;43mprint\u001b[39;49m\u001b[43m(\u001b[49m\u001b[43mtemperatura\u001b[49m\u001b[43m)\u001b[49m\n",
      "Cell \u001b[1;32mIn[15], line 8\u001b[0m, in \u001b[0;36msensor_temperatura\u001b[1;34m()\u001b[0m\n\u001b[0;32m      6\u001b[0m temeperatura \u001b[38;5;241m=\u001b[39m \u001b[38;5;28mround\u001b[39m(random\u001b[38;5;241m.\u001b[39muniform(\u001b[38;5;241m10.0\u001b[39m, \u001b[38;5;241m30.0\u001b[39m),\u001b[38;5;241m2\u001b[39m)\n\u001b[0;32m      7\u001b[0m \u001b[38;5;28;01myield\u001b[39;00m temeperatura\n\u001b[1;32m----> 8\u001b[0m \u001b[43mtime\u001b[49m\u001b[38;5;241;43m.\u001b[39;49m\u001b[43msleep\u001b[49m\u001b[43m(\u001b[49m\u001b[38;5;241;43m3\u001b[39;49m\u001b[43m)\u001b[49m\n",
      "\u001b[1;31mKeyboardInterrupt\u001b[0m: "
     ]
    }
   ],
   "source": [
    "import random\n",
    "import time\n",
    "\n",
    "def sensor_temperatura():\n",
    "    while True:\n",
    "        temeperatura = round(random.uniform(10.0, 30.0),2)\n",
    "        yield temeperatura\n",
    "        time.sleep(3)\n",
    "\n",
    "for temperatura in sensor_temperatura():\n",
    "    print(temperatura)"
   ]
  }
 ],
 "metadata": {
  "kernelspec": {
   "display_name": "Python 3",
   "language": "python",
   "name": "python3"
  },
  "language_info": {
   "codemirror_mode": {
    "name": "ipython",
    "version": 3
   },
   "file_extension": ".py",
   "mimetype": "text/x-python",
   "name": "python",
   "nbconvert_exporter": "python",
   "pygments_lexer": "ipython3",
   "version": "3.13.0"
  }
 },
 "nbformat": 4,
 "nbformat_minor": 2
}
