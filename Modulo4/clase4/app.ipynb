{
 "cells": [
  {
   "cell_type": "markdown",
   "metadata": {},
   "source": [
    "# Ejercicio\n",
    "Hacer un simulador de reseñas"
   ]
  },
  {
   "cell_type": "code",
   "execution_count": 11,
   "metadata": {},
   "outputs": [],
   "source": [
    "import itertools\n",
    "import collections\n",
    "\n",
    "\n",
    "#Simulacion de reseñas\n",
    "reseñas = [\n",
    "    {\n",
    "        \"Usuario\": \"Maria\",\n",
    "        \"Calificacion\": 5,\n",
    "        \"Reseña\": \"Excelente producto y muy buen servicio y muy buen producto\"\n",
    "    },\n",
    "    {\n",
    "        \"Usuario\": \"Jose\",\n",
    "        \"Calificacion\": 3,\n",
    "        \"Reseña\": \"¡Increíble! El producto superó mis expectativas y el servicio fue excelente.\"\n",
    "    },\n",
    "    {\n",
    "        \"Usuario\": \"Luis\",\n",
    "        \"Calificacion\": 2,\n",
    "        \"Reseña\": \"No podría estar más feliz con mi compra. El producto es excelente y el servicio fue impecable.\"\n",
    "    },\n",
    "    {\n",
    "        \"Usuario\": \"Mariel\",\n",
    "        \"Calificacion\": 5,\n",
    "        \"Reseña\": \"Recomiendo totalmente este producto. Es excelente y el servicio fue igualmente excelente.\"\n",
    "    },\n",
    "    {\n",
    "        \"Usuario\": \"Marijose\",\n",
    "        \"Calificacion\": 5,\n",
    "        \"Reseña\": \"Todo perfecto: el producto es excelente y el servicio recibido fue inmejorable.\"\n",
    "    },\n",
    "    {\n",
    "        \"Usuario\": \"camila\",\n",
    "        \"Calificacion\": 4,\n",
    "        \"Reseña\": \"Muy satisfecha con mi compra. El producto es de alta calidad y el servicio fue excelente.\"\n",
    "    },\n",
    "    {\n",
    "        \"Usuario\": \"jesus\",\n",
    "        \"Calificacion\": 1,\n",
    "        \"Reseña\": \"¡Fantástico! El producto cumplió todas mis expectativas y el servicio fue excepcional.\"\n",
    "    },\n",
    "    {\n",
    "        \"Usuario\": \"cristo\",\n",
    "        \"Calificacion\": 2,\n",
    "        \"Reseña\": \"Increíble producto y servicio. Totalmente satisfecha con mi compra.\"\n",
    "    },\n",
    "    {\n",
    "        \"Usuario\": \"marcos\",\n",
    "        \"Calificacion\": 3,\n",
    "        \"Reseña\": \"Producto excelente y servicio impecable. Muy contenta con mi experiencia de compra.\"\n",
    "    },\n",
    "    {\n",
    "        \"Usuario\": \"caballo\",\n",
    "        \"Calificacion\": 5,\n",
    "        \"Reseña\": \"No tengo más que elogios para este producto y el servicio recibido. ¡Altamente recomendado!\"\n",
    "    }\n",
    "]\n"
   ]
  },
  {
   "cell_type": "code",
   "execution_count": 4,
   "metadata": {},
   "outputs": [
    {
     "name": "stdout",
     "output_type": "stream",
     "text": [
      "Counter({'producto': 10, 'servicio': 9, 'excelente': 5, 'compra.': 4, 'excelente.': 3, 'buen': 2, 'expectativas': 2, 'impecable.': 2, 'totalmente': 2, 'este': 2, 'satisfecha': 2, '¡increíble!': 1, 'superó': 1, 'podría': 1, 'estar': 1, 'feliz': 1, 'recomiendo': 1, 'producto.': 1, 'igualmente': 1, 'todo': 1, 'perfecto:': 1, 'recibido': 1, 'inmejorable.': 1, 'alta': 1, 'calidad': 1, '¡fantástico!': 1, 'cumplió': 1, 'todas': 1, 'excepcional.': 1, 'increíble': 1, 'servicio.': 1, 'contenta': 1, 'experiencia': 1, 'tengo': 1, 'elogios': 1, 'para': 1, 'recibido.': 1, '¡altamente': 1, 'recomendado!': 1})\n",
      "[('producto', 10), ('servicio', 9), ('excelente', 5), ('compra.', 4), ('excelente.', 3), ('buen', 2), ('expectativas', 2), ('impecable.', 2), ('totalmente', 2), ('este', 2)]\n"
     ]
    }
   ],
   "source": [
    "palabras = []\n",
    "for palabra in reseñas:\n",
    "    palabras.extend([p for p in palabra[\"Reseña\"].lower().split() if len(p) > 3])\n",
    "\n",
    "conteo = collections.Counter(palabras)\n",
    "print(conteo)\n",
    "print(conteo.most_common(10))\n"
   ]
  },
  {
   "cell_type": "markdown",
   "metadata": {},
   "source": [
    "## Agrupacion de Reseñas por puntaje"
   ]
  },
  {
   "cell_type": "code",
   "execution_count": 12,
   "metadata": {},
   "outputs": [
    {
     "name": "stdout",
     "output_type": "stream",
     "text": [
      "Puntaje de 5: ['Excelente producto y muy buen servicio y muy buen producto', 'Recomiendo totalmente este producto. Es excelente y el servicio fue igualmente excelente.', 'Todo perfecto: el producto es excelente y el servicio recibido fue inmejorable.', 'No tengo más que elogios para este producto y el servicio recibido. ¡Altamente recomendado!'] \n",
      "Puntaje de 3: ['¡Increíble! El producto superó mis expectativas y el servicio fue excelente.', 'Producto excelente y servicio impecable. Muy contenta con mi experiencia de compra.'] \n",
      "Puntaje de 2: ['No podría estar más feliz con mi compra. El producto es excelente y el servicio fue impecable.', 'Increíble producto y servicio. Totalmente satisfecha con mi compra.'] \n",
      "Puntaje de 4: ['Muy satisfecha con mi compra. El producto es de alta calidad y el servicio fue excelente.'] \n",
      "Puntaje de 1: ['¡Fantástico! El producto cumplió todas mis expectativas y el servicio fue excepcional.'] \n"
     ]
    }
   ],
   "source": [
    "grupos  = collections.defaultdict(list)\n",
    "for r in reseñas:\n",
    "    grupos[r[\"Calificacion\"]].append(r[\"Reseña\"])\n",
    "\n",
    "for puntajes, comentarios in grupos.items():\n",
    "    print(f\"Puntaje de {puntajes}: {comentarios} \")"
   ]
  },
  {
   "cell_type": "markdown",
   "metadata": {},
   "source": [
    "## Combinaciones de palabras claves"
   ]
  },
  {
   "cell_type": "code",
   "execution_count": null,
   "metadata": {},
   "outputs": [],
   "source": [
    "combinaciones = itertools.combinations(reseñas, 2)\n"
   ]
  }
 ],
 "metadata": {
  "kernelspec": {
   "display_name": "Python 3",
   "language": "python",
   "name": "python3"
  },
  "language_info": {
   "codemirror_mode": {
    "name": "ipython",
    "version": 3
   },
   "file_extension": ".py",
   "mimetype": "text/x-python",
   "name": "python",
   "nbconvert_exporter": "python",
   "pygments_lexer": "ipython3",
   "version": "3.13.0"
  }
 },
 "nbformat": 4,
 "nbformat_minor": 2
}
