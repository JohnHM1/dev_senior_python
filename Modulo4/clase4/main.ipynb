{
 "cells": [
  {
   "cell_type": "markdown",
   "metadata": {},
   "source": [
    "# 1 Introducion "
   ]
  },
  {
   "cell_type": "markdown",
   "metadata": {},
   "source": [
    "## 2. Itertools libreria para manejar iterables."
   ]
  },
  {
   "cell_type": "markdown",
   "metadata": {},
   "source": [
    " ### -Iteradores infinitos  "
   ]
  },
  {
   "cell_type": "code",
   "execution_count": null,
   "metadata": {},
   "outputs": [],
   "source": [
    "import itertools\n",
    "contador = itertools.count(start=0, step=2)\n",
    "for i in range(10):\n",
    "    print(next(contador))"
   ]
  },
  {
   "cell_type": "markdown",
   "metadata": {},
   "source": [
    "### - Ciclos"
   ]
  },
  {
   "cell_type": "code",
   "execution_count": null,
   "metadata": {},
   "outputs": [],
   "source": [
    "ciclo = itertools.cycle(['azul','verde', 'rojo'])\n",
    "for i in range(10):\n",
    "    print(next(ciclo))"
   ]
  },
  {
   "cell_type": "markdown",
   "metadata": {},
   "source": [
    "### - Repetir secuencias"
   ]
  },
  {
   "cell_type": "code",
   "execution_count": 12,
   "metadata": {},
   "outputs": [
    {
     "name": "stdout",
     "output_type": "stream",
     "text": [
      "[['Hola'], ['Hola'], ['Hola'], ['Hola'], ['Hola']]\n"
     ]
    }
   ],
   "source": [
    "repetir = itertools.repeat(['Hola'], times=5)\n",
    "\n",
    "print(list(repetir)) "
   ]
  },
  {
   "cell_type": "markdown",
   "metadata": {},
   "source": [
    "### - Permutaciones y combinaciones"
   ]
  },
  {
   "cell_type": "code",
   "execution_count": null,
   "metadata": {},
   "outputs": [],
   "source": [
    "dato = ['A', 'B', 'C']\n",
    "resultado = itertools.combinations(dato, 3)\n",
    "for i in resultado:\n",
    "    print(i)\n",
    "#permutaciones\n",
    "resultado = itertools.permutations(dato, 3)\n",
    "print('Permutaciones')\n",
    "for i in resultado:\n",
    "    print(i)\n",
    "#combinaciones sin repeticion\n",
    "resultado = itertools.combinations_with_replacement(dato, 3)\n",
    "print('Combinaciones con repeticion')\n",
    "for i in resultado:\n",
    "    print(i)\n",
    "    "
   ]
  },
  {
   "cell_type": "markdown",
   "metadata": {},
   "source": [
    "### Agrupaciones y segmetacion de datos"
   ]
  },
  {
   "cell_type": "code",
   "execution_count": null,
   "metadata": {},
   "outputs": [
    {
     "name": "stdout",
     "output_type": "stream",
     "text": [
      "A [('A', 1)]\n",
      "B [('B', 2)]\n",
      "C [('C', 3)]\n",
      "D [('D', 4)]\n"
     ]
    }
   ],
   "source": [
    "datos = [('A', 1),('A','2'), ('B', 2), ('C', 3), ('D', 4)]\n",
    "\n",
    "for key, group in itertools.groupby(datos, lambda x: x[0]):\n",
    "    print(key, list(group))"
   ]
  }
 ],
 "metadata": {
  "kernelspec": {
   "display_name": "Python 3",
   "language": "python",
   "name": "python3"
  },
  "language_info": {
   "codemirror_mode": {
    "name": "ipython",
    "version": 3
   },
   "file_extension": ".py",
   "mimetype": "text/x-python",
   "name": "python",
   "nbconvert_exporter": "python",
   "pygments_lexer": "ipython3",
   "version": "3.13.0"
  }
 },
 "nbformat": 4,
 "nbformat_minor": 2
}
