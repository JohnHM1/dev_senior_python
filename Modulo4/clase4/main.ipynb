{
 "cells": [
  {
   "cell_type": "markdown",
   "metadata": {},
   "source": [
    "# 1 Introducion "
   ]
  },
  {
   "cell_type": "markdown",
   "metadata": {},
   "source": [
    "## 2. Itertools libreria para manejar iterables."
   ]
  },
  {
   "cell_type": "markdown",
   "metadata": {},
   "source": [
    " ### -Iteradores infinitos  "
   ]
  },
  {
   "cell_type": "code",
   "execution_count": null,
   "metadata": {},
   "outputs": [],
   "source": [
    "import itertools\n",
    "contador = itertools.count(start=0, step=2)\n",
    "for i in range(10):\n",
    "    print(next(contador))"
   ]
  },
  {
   "cell_type": "markdown",
   "metadata": {},
   "source": [
    "### - Ciclos"
   ]
  },
  {
   "cell_type": "code",
   "execution_count": null,
   "metadata": {},
   "outputs": [],
   "source": [
    "ciclo = itertools.cycle(['azul','verde', 'rojo'])\n",
    "for i in range(10):\n",
    "    print(next(ciclo))"
   ]
  },
  {
   "cell_type": "markdown",
   "metadata": {},
   "source": [
    "### - Repetir secuencias"
   ]
  },
  {
   "cell_type": "code",
   "execution_count": 12,
   "metadata": {},
   "outputs": [
    {
     "name": "stdout",
     "output_type": "stream",
     "text": [
      "[['Hola'], ['Hola'], ['Hola'], ['Hola'], ['Hola']]\n"
     ]
    }
   ],
   "source": [
    "repetir = itertools.repeat(['Hola'], times=5)\n",
    "\n",
    "print(list(repetir)) "
   ]
  },
  {
   "cell_type": "markdown",
   "metadata": {},
   "source": [
    "### - Permutaciones y combinaciones"
   ]
  },
  {
   "cell_type": "code",
   "execution_count": null,
   "metadata": {},
   "outputs": [],
   "source": [
    "dato = ['A', 'B', 'C']\n",
    "resultado = itertools.combinations(dato, 3)\n",
    "for i in resultado:\n",
    "    print(i)\n",
    "#permutaciones\n",
    "resultado = itertools.permutations(dato, 3)\n",
    "print('Permutaciones')\n",
    "for i in resultado:\n",
    "    print(i)\n",
    "#combinaciones sin repeticion\n",
    "resultado = itertools.combinations_with_replacement(dato, 3)\n",
    "print('Combinaciones con repeticion')\n",
    "for i in resultado:\n",
    "    print(i)\n",
    "    "
   ]
  },
  {
   "cell_type": "markdown",
   "metadata": {},
   "source": [
    "### Agrupaciones y segmetacion de datos"
   ]
  },
  {
   "cell_type": "code",
   "execution_count": 21,
   "metadata": {},
   "outputs": [
    {
     "name": "stdout",
     "output_type": "stream",
     "text": [
      "A [('A', 1), ('A', '2')]\n",
      "B [('B', 2)]\n",
      "C [('C', 3)]\n",
      "D [('D', 4)]\n",
      "[1, 2, 3, 4, 5]\n",
      "[1, 2, 3, 4, 5]\n"
     ]
    }
   ],
   "source": [
    "datos = [('A', 1),('A','2'), ('B', 2), ('C', 3), ('D', 4)]\n",
    "\n",
    "for key, group in itertools.groupby(datos, lambda x: x[0]):\n",
    "    print(key, list(group))\n",
    "\n",
    "# iter\n",
    "datos = iter([1, 2, 3, 4, 5])\n",
    "\n",
    "it1, it2 = itertools.tee(datos)\n",
    "print(list(it1))\n",
    "print(list(it2))\n"
   ]
  },
  {
   "cell_type": "markdown",
   "metadata": {},
   "source": [
    "### - Producto cartesiano y concatenaciones"
   ]
  },
  {
   "cell_type": "code",
   "execution_count": 22,
   "metadata": {},
   "outputs": [
    {
     "name": "stdout",
     "output_type": "stream",
     "text": [
      "[('azul', 'S'), ('azul', 'M'), ('azul', 'L'), ('verde', 'S'), ('verde', 'M'), ('verde', 'L'), ('rojo', 'S'), ('rojo', 'M'), ('rojo', 'L')]\n"
     ]
    }
   ],
   "source": [
    "colores = ['azul', 'verde', 'rojo']\n",
    "tallas = ['S', 'M', 'L']\n",
    "\n",
    "print(list(itertools.product(colores, tallas)))"
   ]
  },
  {
   "cell_type": "code",
   "execution_count": 24,
   "metadata": {},
   "outputs": [
    {
     "name": "stdout",
     "output_type": "stream",
     "text": [
      "['A', 'B', 'C', 'D', 'E', 1, 2, 3, 4, 5]\n"
     ]
    }
   ],
   "source": [
    "a = [1, 2, 3, 4, 5]\n",
    "b = ['A', 'B', 'C', 'D', 'E']\n",
    "\n",
    "print(list(itertools.chain(b, a)))"
   ]
  },
  {
   "cell_type": "markdown",
   "metadata": {},
   "source": [
    "## Tecnicas Avazandas con collections"
   ]
  },
  {
   "cell_type": "code",
   "execution_count": 29,
   "metadata": {},
   "outputs": [
    {
     "name": "stdout",
     "output_type": "stream",
     "text": [
      "defaultdict(<class 'list'>, {'a': [1]})\n"
     ]
    }
   ],
   "source": [
    "import collections\n",
    "d = collections.defaultdict(list)\n",
    "d['a'].append(1)\n",
    "\n",
    "print(d)"
   ]
  },
  {
   "cell_type": "code",
   "execution_count": 30,
   "metadata": {},
   "outputs": [
    {
     "name": "stdout",
     "output_type": "stream",
     "text": [
      "Counter({'manzana': 4, 'pera': 3, 'naranja': 2})\n"
     ]
    }
   ],
   "source": [
    "frutas = ['manzana', 'pera', 'manzana', 'naranja', 'pera', 'manzana', 'naranja', 'manzana', 'pera']\n",
    "contador = collections.Counter(frutas)\n",
    "print(contador)"
   ]
  },
  {
   "cell_type": "code",
   "execution_count": 31,
   "metadata": {},
   "outputs": [
    {
     "name": "stdout",
     "output_type": "stream",
     "text": [
      "OrderedDict({'a': 1, 'b': 2, 'c': 3})\n"
     ]
    }
   ],
   "source": [
    "d = collections.OrderedDict()\n",
    "d['a'] = 1\n",
    "d['b'] = 2\n",
    "d['c'] = 3\n",
    "print(d)"
   ]
  }
 ],
 "metadata": {
  "kernelspec": {
   "display_name": "Python 3",
   "language": "python",
   "name": "python3"
  },
  "language_info": {
   "codemirror_mode": {
    "name": "ipython",
    "version": 3
   },
   "file_extension": ".py",
   "mimetype": "text/x-python",
   "name": "python",
   "nbconvert_exporter": "python",
   "pygments_lexer": "ipython3",
   "version": "3.13.0"
  }
 },
 "nbformat": 4,
 "nbformat_minor": 2
}
