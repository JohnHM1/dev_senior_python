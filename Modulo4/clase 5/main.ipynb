{
 "cells": [
  {
   "cell_type": "markdown",
   "metadata": {},
   "source": []
  },
  {
   "cell_type": "code",
   "execution_count": null,
   "metadata": {},
   "outputs": [],
   "source": [
    "import bcrypt"
   ]
  },
  {
   "cell_type": "code",
   "execution_count": 8,
   "metadata": {},
   "outputs": [],
   "source": [
    "class Ecomerce:\n",
    "    def __init__(self):\n",
    "        self.users = {}\n",
    "    \n",
    "    def register(self, username, password):\n",
    "        salt  = bcrypt.gensalt()\n",
    "        hashed_password = bcrypt.hashpw(password.encode(), salt)\n",
    "        self.users[username] = hashed_password\n",
    "        print(f\"Usuarios: {username} registrado\")"
   ]
  },
  {
   "cell_type": "code",
   "execution_count": null,
   "metadata": {},
   "outputs": [
    {
     "name": "stdout",
     "output_type": "stream",
     "text": [
      "Usuarios: user registrado\n"
     ]
    }
   ],
   "source": [
    "ecomerce = Ecomerce()\n",
    "ecomerce.register(\"user\", \"1234\")\n",
    "\n",
    "# Esto esta mal seguin solid en su primera palabra S (Single Responsability Principle)\n",
    "# La clase Ecomerce deberia tener una sola responsabilidads, que es manejar los usuarios no encriptar contraseñas"
   ]
  },
  {
   "cell_type": "code",
   "execution_count": null,
   "metadata": {},
   "outputs": [],
   "source": [
    "class Ecomerce:\n",
    "    def __init__(self):\n",
    "        self.users = {}\n",
    "    \n",
    "    def register(self, username, password):\n",
    "        \n",
    "        self.users[username] = hashed_password\n",
    "        print(f\"Usuarios: {username} registrado\")\n",
    "\n",
    "class PasswordManager:\n",
    "\n",
    "    def encryptador(self, password: str):\n",
    "        salt  = bcrypt.gensalt()\n",
    "        return bcrypt.hashpw(password.encode(), salt)"
   ]
  },
  {
   "cell_type": "code",
   "execution_count": 15,
   "metadata": {},
   "outputs": [],
   "source": [
    "from abc import ABC, abstractmethod\n",
    "\n",
    "class Figura(ABC):\n",
    "    @abstractmethod\n",
    "    def area(self):\n",
    "        pass\n",
    "\n",
    "class Cuadrado(Figura):\n",
    "    def __init__(self, lado: float):\n",
    "        self.lado = lado\n",
    "    \n",
    "    def area(self)->float:\n",
    "        return self.lado * self.lado\n",
    "\n",
    "class Circulo(Figura):\n",
    "    def __init__(self, radio: float):\n",
    "        self.radio = radio\n",
    "\n",
    "    def area(self)->float:\n",
    "        return 3.1416 * (self.radio**2)\n",
    "\n",
    "class Rectangulo(Figura):\n",
    "    def __init__(self, base: float, altura: float):\n",
    "        self.base = base\n",
    "        self.altura = altura\n",
    "\n",
    "    def area(self)->float:\n",
    "        return self.base * self.altura\n",
    "\n",
    "class Triangulo(Figura):\n",
    "    def __init__(self, base: float, altura: float):\n",
    "        self.base = base\n",
    "        self.altura = altura\n",
    "\n",
    "    def area(self)->float:\n",
    "        return (self.base * self.altura) / 2"
   ]
  },
  {
   "cell_type": "code",
   "execution_count": 18,
   "metadata": {},
   "outputs": [
    {
     "name": "stdout",
     "output_type": "stream",
     "text": [
      "25\n",
      "78.53999999999999\n",
      "30\n",
      "15.0\n"
     ]
    }
   ],
   "source": [
    "\n",
    "#Calculadora de area\n",
    "# La segunda letra de SOLID es O (Open/Closed Principle)\n",
    "# La clase Calculadora de area deberia estar cerrada para modificacion y abierta para extension\n",
    "\n",
    "class CalculadoraArea:\n",
    "    def calcularArea(self, figura: Figura)->float:\n",
    "        return figura.area()\n",
    "# que siginifica **kwargs en python\n",
    "# **kwargs es una forma de pasar argumentos variables a una funcion en python\n",
    "\n",
    "calculadora = CalculadoraArea()\n",
    "cuadrado = Cuadrado(5)\n",
    "circulo = Circulo(5)\n",
    "rectangulo = Rectangulo(5, 6)\n",
    "triangulo = Triangulo(5, 6)\n",
    "print(calculadora.calcularArea(cuadrado))\n",
    "print(calculadora.calcularArea(circulo))\n",
    "print(calculadora.calcularArea(rectangulo))\n",
    "print(calculadora.calcularArea(triangulo))\n"
   ]
  },
  {
   "cell_type": "markdown",
   "metadata": {},
   "source": [
    "# Ahora vamos con la L , Liskov\n",
    "\n",
    "El principio de sustitucion de Liskov nos dice que si S es un subtipo de T, entonces los objetos de tipo T pueden ser reemplazados por objetos de tipo S sin alterar ninguna de las propiedades del programa"
   ]
  },
  {
   "cell_type": "code",
   "execution_count": null,
   "metadata": {},
   "outputs": [],
   "source": [
    "# Ahora vamos cona la letra L de SOLID (Liskov Substitution Principle)\n",
    "# El principio de sustitucion de Liskov nos dice que si S es un subtipo de T, entonces los objetos de tipo T pueden ser reemplazados por objetos de tipo S sin alterar ninguna de las propiedades del programa"
   ]
  },
  {
   "cell_type": "code",
   "execution_count": 20,
   "metadata": {},
   "outputs": [
    {
     "name": "stdout",
     "output_type": "stream",
     "text": [
      "Acelerando Bicicleta\n",
      "Acelerando Coche\n"
     ]
    }
   ],
   "source": [
    "class Vehiculo(ABC):\n",
    "    @abstractmethod\n",
    "    def acelerar(self):\n",
    "        pass\n",
    "\n",
    "class VehiculoMotor(Vehiculo):\n",
    "    @abstractmethod\n",
    "    def acelerar(self):\n",
    "        pass\n",
    "\n",
    "class VehiculoNoMotor(Vehiculo):\n",
    "    @abstractmethod\n",
    "    def acelerar(self):\n",
    "        pass\n",
    "\n",
    "class Coche(VehiculoMotor):\n",
    "    def acelerar(self):\n",
    "        print(\"Acelerando Coche\")\n",
    "\n",
    "class Bicicleta(VehiculoNoMotor):\n",
    "    def acelerar(self):\n",
    "        print(\"Acelerando Bicicleta\")\n",
    "\n",
    "bicicleta = Bicicleta()\n",
    "coche = Coche()\n",
    "bicicleta.acelerar()\n",
    "coche.acelerar()\n"
   ]
  }
 ],
 "metadata": {
  "kernelspec": {
   "display_name": "Python 3",
   "language": "python",
   "name": "python3"
  },
  "language_info": {
   "codemirror_mode": {
    "name": "ipython",
    "version": 3
   },
   "file_extension": ".py",
   "mimetype": "text/x-python",
   "name": "python",
   "nbconvert_exporter": "python",
   "pygments_lexer": "ipython3",
   "version": "3.13.0"
  }
 },
 "nbformat": 4,
 "nbformat_minor": 2
}
